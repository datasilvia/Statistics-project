{
 "cells": [
  {
   "cell_type": "code",
   "execution_count": 63,
   "metadata": {},
   "outputs": [
    {
     "data": {
      "text/html": [
       "<div>\n",
       "<style scoped>\n",
       "    .dataframe tbody tr th:only-of-type {\n",
       "        vertical-align: middle;\n",
       "    }\n",
       "\n",
       "    .dataframe tbody tr th {\n",
       "        vertical-align: top;\n",
       "    }\n",
       "\n",
       "    .dataframe thead th {\n",
       "        text-align: right;\n",
       "    }\n",
       "</style>\n",
       "<table border=\"1\" class=\"dataframe\">\n",
       "  <thead>\n",
       "    <tr style=\"text-align: right;\">\n",
       "      <th></th>\n",
       "      <th>client_id</th>\n",
       "      <th>visit_id</th>\n",
       "      <th>duration</th>\n",
       "      <th>start</th>\n",
       "      <th>step_1</th>\n",
       "      <th>step_2</th>\n",
       "      <th>step_3</th>\n",
       "      <th>confirm</th>\n",
       "      <th>variation</th>\n",
       "    </tr>\n",
       "  </thead>\n",
       "  <tbody>\n",
       "    <tr>\n",
       "      <th>3</th>\n",
       "      <td>555</td>\n",
       "      <td>637149525_38041617439_716659</td>\n",
       "      <td>00:02:38</td>\n",
       "      <td>1</td>\n",
       "      <td>1</td>\n",
       "      <td>1</td>\n",
       "      <td>1</td>\n",
       "      <td>1</td>\n",
       "      <td>Test</td>\n",
       "    </tr>\n",
       "    <tr>\n",
       "      <th>4</th>\n",
       "      <td>647</td>\n",
       "      <td>40369564_40101682850_311847</td>\n",
       "      <td>00:06:17</td>\n",
       "      <td>1</td>\n",
       "      <td>1</td>\n",
       "      <td>1</td>\n",
       "      <td>1</td>\n",
       "      <td>1</td>\n",
       "      <td>Test</td>\n",
       "    </tr>\n",
       "    <tr>\n",
       "      <th>11</th>\n",
       "      <td>934</td>\n",
       "      <td>7076463_57954418406_971348</td>\n",
       "      <td>00:02:22</td>\n",
       "      <td>4</td>\n",
       "      <td>0</td>\n",
       "      <td>0</td>\n",
       "      <td>0</td>\n",
       "      <td>0</td>\n",
       "      <td>Test</td>\n",
       "    </tr>\n",
       "    <tr>\n",
       "      <th>12</th>\n",
       "      <td>1028</td>\n",
       "      <td>557292053_87239438319_391157</td>\n",
       "      <td>00:08:58</td>\n",
       "      <td>1</td>\n",
       "      <td>5</td>\n",
       "      <td>2</td>\n",
       "      <td>1</td>\n",
       "      <td>0</td>\n",
       "      <td>Control</td>\n",
       "    </tr>\n",
       "    <tr>\n",
       "      <th>14</th>\n",
       "      <td>1104</td>\n",
       "      <td>543158812_46395476577_767725</td>\n",
       "      <td>00:00:00</td>\n",
       "      <td>1</td>\n",
       "      <td>0</td>\n",
       "      <td>0</td>\n",
       "      <td>0</td>\n",
       "      <td>0</td>\n",
       "      <td>Control</td>\n",
       "    </tr>\n",
       "  </tbody>\n",
       "</table>\n",
       "</div>"
      ],
      "text/plain": [
       "    client_id                      visit_id  duration  start  step_1  step_2  \\\n",
       "3         555  637149525_38041617439_716659  00:02:38      1       1       1   \n",
       "4         647   40369564_40101682850_311847  00:06:17      1       1       1   \n",
       "11        934    7076463_57954418406_971348  00:02:22      4       0       0   \n",
       "12       1028  557292053_87239438319_391157  00:08:58      1       5       2   \n",
       "14       1104  543158812_46395476577_767725  00:00:00      1       0       0   \n",
       "\n",
       "    step_3  confirm variation  \n",
       "3        1        1      Test  \n",
       "4        1        1      Test  \n",
       "11       0        0      Test  \n",
       "12       1        0   Control  \n",
       "14       0        0   Control  "
      ]
     },
     "execution_count": 63,
     "metadata": {},
     "output_type": "execute_result"
    }
   ],
   "source": [
    "import pandas as pd\n",
    "from statsmodels.stats.proportion import proportions_ztest\n",
    "\n",
    "# Archivo separado por comas\n",
    "df_webdata = pd.read_csv('df_webdata.csv')\n",
    "df_final = pd.read_csv('df_final_clients.csv')\n",
    "\n",
    "# Filtrar df_webdata para crear df_participants:\n",
    "df_participants = df_webdata[df_webdata['variation'] != \"Not participant\"]\n",
    "\n",
    "# Verificar las primeras filas del nuevo DataFrame\n",
    "df_participants.head()"
   ]
  },
  {
   "cell_type": "code",
   "execution_count": 64,
   "metadata": {},
   "outputs": [],
   "source": [
    "#Hipótesis Nula (H0): No hay diferencia en el completion rate entre los grupos.\n",
    "#Hipótesis Alternativa (H1): Hay una diferencia significativa en el completion rate entre los grupos."
   ]
  },
  {
   "cell_type": "code",
   "execution_count": 65,
   "metadata": {},
   "outputs": [
    {
     "name": "stdout",
     "output_type": "stream",
     "text": [
      "Completion Rate Grupo Control: 49.89610147939088%\n",
      "Completion Rate Grupo Test: 58.571658961401994%\n"
     ]
    },
    {
     "name": "stderr",
     "output_type": "stream",
     "text": [
      "C:\\Users\\Usuario\\AppData\\Local\\Temp\\ipykernel_18056\\3791403091.py:12: SettingWithCopyWarning: \n",
      "A value is trying to be set on a copy of a slice from a DataFrame.\n",
      "Try using .loc[row_indexer,col_indexer] = value instead\n",
      "\n",
      "See the caveats in the documentation: https://pandas.pydata.org/pandas-docs/stable/user_guide/indexing.html#returning-a-view-versus-a-copy\n",
      "  df_participants.loc[:, 'completion'] = (df_participants['confirm'].apply(paso_completado))\n"
     ]
    }
   ],
   "source": [
    "def paso_completado(val):\n",
    "    return 1 if val > 0 else 0\n",
    "\n",
    "# Crear la nueva columna 'completion' sumando los pasos binarizados\n",
    "#df_participants.loc[:, 'completion'] = (\n",
    "#    df_participants['start'].apply(paso_completado) +\n",
    "#    df_participants['step_1'].apply(paso_completado) +\n",
    "#    df_participants['step_2'].apply(paso_completado) +\n",
    "#    df_participants['step_3'].apply(paso_completado) +\n",
    "#    df_participants['confirm'].apply(paso_completado) )\n",
    "\n",
    "df_participants.loc[:, 'completion'] = (df_participants['confirm'].apply(paso_completado))\n",
    "\n",
    "# Ahora, para calcular el completion rate, filtramos los que completaron los 5 pasos\n",
    "completion_rate_control = df_participants[(df_participants['variation'] == 'Control') & (df_participants['completion'] == 1)].shape[0] / df_participants[df_participants['variation'] == 'Control'].shape[0] * 100\n",
    "completion_rate_test = df_participants[(df_participants['variation'] == 'Test') & (df_participants['completion'] == 1)].shape[0] / df_participants[df_participants['variation'] == 'Test'].shape[0] * 100\n",
    "\n",
    "print(f'Completion Rate Grupo Control: {completion_rate_control}%')\n",
    "print(f'Completion Rate Grupo Test: {completion_rate_test}%')"
   ]
  },
  {
   "cell_type": "code",
   "execution_count": 66,
   "metadata": {},
   "outputs": [],
   "source": [
    "# Calcular el número de éxitos (aquellos que completaron los 5 pasos) y el total de cada grupo\n",
    "exitos_control = df_participants[(df_participants['variation'] == 'Control') & (df_participants['completion'] == 1)].shape[0]\n",
    "total_control = df_participants[df_participants['variation'] == 'Control'].shape[0]\n",
    "\n",
    "exitos_test = df_participants[(df_participants['variation'] == 'Test') & (df_participants['completion'] == 1)].shape[0]\n",
    "total_test = df_participants[df_participants['variation'] == 'Test'].shape[0]"
   ]
  },
  {
   "cell_type": "code",
   "execution_count": 67,
   "metadata": {},
   "outputs": [
    {
     "name": "stdout",
     "output_type": "stream",
     "text": [
      "Estadístico z: -22.8989\n",
      "Valor p: 0.0000\n"
     ]
    }
   ],
   "source": [
    "\n",
    "\n",
    "# Lista de éxitos y totales\n",
    "exitos = [exitos_control, exitos_test]\n",
    "totales = [total_control, total_test]\n",
    "\n",
    "# Prueba de proporciones\n",
    "stat, p_value = proportions_ztest(exitos, totales)\n",
    "\n",
    "# Mostrar los resultados\n",
    "print(f'Estadístico z: {stat:.4f}')\n",
    "print(f'Valor p: {p_value:.4f}')\n",
    "\n",
    "# El estadístico z indica la distancia, en unidades de desviación estándar, \n",
    "# de la diferencia observada respecto a la hipotesis nula de que no hay diferencia.\n",
    "# Como sale muy grande en valores absolutos, indica que la diferencia en los \n",
    "# completion rates es mucho mayor de lo que esperaríamos si no hubiera diferencia real.\n",
    "\n",
    "# El valor p te dice la probabilidad de observar la diferencia si la hipótesis nula \n",
    "# fuera verdadera. Como es muy pequeño, se puede concluir que hay una diferencia \n",
    "# estadísticamente significativa.\n",
    "\n",
    "# El resultado es estadísticamente significativo y además la diferencia en \n",
    "# completion rate es más del 5%, podemos afirmar con mayor confianza que las \n",
    "# modificaciones realizadas en tu experimento tuvieron un impacto positivo."
   ]
  },
  {
   "cell_type": "code",
   "execution_count": 68,
   "metadata": {},
   "outputs": [],
   "source": [
    "#Hipótesis Nula (H0): No hay diferencia en la duracion entre los grupos.\n",
    "#Hipótesis Alternativa (H1): Hay una diferencia significativa en la duracion entre los grupos."
   ]
  },
  {
   "cell_type": "code",
   "execution_count": 70,
   "metadata": {},
   "outputs": [
    {
     "name": "stdout",
     "output_type": "stream",
     "text": [
      "object\n"
     ]
    },
    {
     "data": {
      "text/plain": [
       "3         00:02:38\n",
       "4         00:06:17\n",
       "18        00:04:05\n",
       "19        00:01:35\n",
       "21        00:03:31\n",
       "            ...   \n",
       "159093    00:02:45\n",
       "159096    00:03:17\n",
       "159098    00:02:51\n",
       "159101    00:01:59\n",
       "159106    00:01:15\n",
       "Name: duration, Length: 37879, dtype: object"
      ]
     },
     "execution_count": 70,
     "metadata": {},
     "output_type": "execute_result"
    }
   ],
   "source": [
    "# Filtrar los datos para solo aquellos con completion == 1\n",
    "completed_sessions = df_participants[df_participants['completion'] == 1]\n",
    "\n",
    "# Comprobar tipos después de la conversión\n",
    "print(completed_sessions['duration'].dtype)\n",
    "\n",
    "completed_sessions['duration']"
   ]
  },
  {
   "cell_type": "code",
   "execution_count": 62,
   "metadata": {},
   "outputs": [
    {
     "name": "stdout",
     "output_type": "stream",
     "text": [
      "3     None\n",
      "4     None\n",
      "18    None\n",
      "19    None\n",
      "21    None\n",
      "Name: duration_seconds, dtype: object\n"
     ]
    },
    {
     "name": "stderr",
     "output_type": "stream",
     "text": [
      "C:\\Users\\Usuario\\AppData\\Local\\Temp\\ipykernel_18056\\2956164803.py:10: SettingWithCopyWarning: \n",
      "A value is trying to be set on a copy of a slice from a DataFrame.\n",
      "Try using .loc[row_indexer,col_indexer] = value instead\n",
      "\n",
      "See the caveats in the documentation: https://pandas.pydata.org/pandas-docs/stable/user_guide/indexing.html#returning-a-view-versus-a-copy\n",
      "  completed_sessions['duration_seconds'] = completed_sessions['duration'].apply(time_to_seconds)\n"
     ]
    }
   ],
   "source": [
    "# Definir una función para convertir hh:mm:ss a segundos\n",
    "def time_to_seconds(tiempo):\n",
    "    try:\n",
    "        h, m, s = map(int, tiempo.split(':'))\n",
    "        return h * 3600 + m * 60 + s\n",
    "    except:\n",
    "        return None  # Devuelve None en caso de error de conversión\n",
    "\n",
    "# Aplicar la función a la columna 'duration'\n",
    "completed_sessions['duration_seconds'] = completed_sessions['duration'].apply(time_to_seconds)\n",
    "\n",
    "# Comprobar si ha funcionado la conversión\n",
    "print(completed_sessions['duration_seconds'].head())"
   ]
  },
  {
   "cell_type": "code",
   "execution_count": 52,
   "metadata": {},
   "outputs": [
    {
     "ename": "AttributeError",
     "evalue": "Can only use .dt accessor with datetimelike values",
     "output_type": "error",
     "traceback": [
      "\u001b[1;31m---------------------------------------------------------------------------\u001b[0m",
      "\u001b[1;31mAttributeError\u001b[0m                            Traceback (most recent call last)",
      "Cell \u001b[1;32mIn[52], line 2\u001b[0m\n\u001b[0;32m      1\u001b[0m \u001b[38;5;66;03m# Convertir las duraciones a segundos\u001b[39;00m\n\u001b[1;32m----> 2\u001b[0m completed_sessions\u001b[38;5;241m.\u001b[39mloc[:, \u001b[38;5;124m'\u001b[39m\u001b[38;5;124mduration_seconds\u001b[39m\u001b[38;5;124m'\u001b[39m] \u001b[38;5;241m=\u001b[39m \u001b[43mcompleted_sessions\u001b[49m\u001b[43m[\u001b[49m\u001b[38;5;124;43m'\u001b[39;49m\u001b[38;5;124;43mduration\u001b[39;49m\u001b[38;5;124;43m'\u001b[39;49m\u001b[43m]\u001b[49m\u001b[38;5;241;43m.\u001b[39;49m\u001b[43mdt\u001b[49m\u001b[38;5;241m.\u001b[39mtotal_seconds()\n",
      "File \u001b[1;32mc:\\Users\\Usuario\\AppData\\Local\\Programs\\Python\\Python39\\lib\\site-packages\\pandas\\core\\generic.py:6299\u001b[0m, in \u001b[0;36mNDFrame.__getattr__\u001b[1;34m(self, name)\u001b[0m\n\u001b[0;32m   6292\u001b[0m \u001b[38;5;28;01mif\u001b[39;00m (\n\u001b[0;32m   6293\u001b[0m     name \u001b[38;5;129;01mnot\u001b[39;00m \u001b[38;5;129;01min\u001b[39;00m \u001b[38;5;28mself\u001b[39m\u001b[38;5;241m.\u001b[39m_internal_names_set\n\u001b[0;32m   6294\u001b[0m     \u001b[38;5;129;01mand\u001b[39;00m name \u001b[38;5;129;01mnot\u001b[39;00m \u001b[38;5;129;01min\u001b[39;00m \u001b[38;5;28mself\u001b[39m\u001b[38;5;241m.\u001b[39m_metadata\n\u001b[0;32m   6295\u001b[0m     \u001b[38;5;129;01mand\u001b[39;00m name \u001b[38;5;129;01mnot\u001b[39;00m \u001b[38;5;129;01min\u001b[39;00m \u001b[38;5;28mself\u001b[39m\u001b[38;5;241m.\u001b[39m_accessors\n\u001b[0;32m   6296\u001b[0m     \u001b[38;5;129;01mand\u001b[39;00m \u001b[38;5;28mself\u001b[39m\u001b[38;5;241m.\u001b[39m_info_axis\u001b[38;5;241m.\u001b[39m_can_hold_identifiers_and_holds_name(name)\n\u001b[0;32m   6297\u001b[0m ):\n\u001b[0;32m   6298\u001b[0m     \u001b[38;5;28;01mreturn\u001b[39;00m \u001b[38;5;28mself\u001b[39m[name]\n\u001b[1;32m-> 6299\u001b[0m \u001b[38;5;28;01mreturn\u001b[39;00m \u001b[38;5;28;43mobject\u001b[39;49m\u001b[38;5;241;43m.\u001b[39;49m\u001b[38;5;21;43m__getattribute__\u001b[39;49m\u001b[43m(\u001b[49m\u001b[38;5;28;43mself\u001b[39;49m\u001b[43m,\u001b[49m\u001b[43m \u001b[49m\u001b[43mname\u001b[49m\u001b[43m)\u001b[49m\n",
      "File \u001b[1;32mc:\\Users\\Usuario\\AppData\\Local\\Programs\\Python\\Python39\\lib\\site-packages\\pandas\\core\\accessor.py:224\u001b[0m, in \u001b[0;36mCachedAccessor.__get__\u001b[1;34m(self, obj, cls)\u001b[0m\n\u001b[0;32m    221\u001b[0m \u001b[38;5;28;01mif\u001b[39;00m obj \u001b[38;5;129;01mis\u001b[39;00m \u001b[38;5;28;01mNone\u001b[39;00m:\n\u001b[0;32m    222\u001b[0m     \u001b[38;5;66;03m# we're accessing the attribute of the class, i.e., Dataset.geo\u001b[39;00m\n\u001b[0;32m    223\u001b[0m     \u001b[38;5;28;01mreturn\u001b[39;00m \u001b[38;5;28mself\u001b[39m\u001b[38;5;241m.\u001b[39m_accessor\n\u001b[1;32m--> 224\u001b[0m accessor_obj \u001b[38;5;241m=\u001b[39m \u001b[38;5;28;43mself\u001b[39;49m\u001b[38;5;241;43m.\u001b[39;49m\u001b[43m_accessor\u001b[49m\u001b[43m(\u001b[49m\u001b[43mobj\u001b[49m\u001b[43m)\u001b[49m\n\u001b[0;32m    225\u001b[0m \u001b[38;5;66;03m# Replace the property with the accessor object. Inspired by:\u001b[39;00m\n\u001b[0;32m    226\u001b[0m \u001b[38;5;66;03m# https://www.pydanny.com/cached-property.html\u001b[39;00m\n\u001b[0;32m    227\u001b[0m \u001b[38;5;66;03m# We need to use object.__setattr__ because we overwrite __setattr__ on\u001b[39;00m\n\u001b[0;32m    228\u001b[0m \u001b[38;5;66;03m# NDFrame\u001b[39;00m\n\u001b[0;32m    229\u001b[0m \u001b[38;5;28mobject\u001b[39m\u001b[38;5;241m.\u001b[39m\u001b[38;5;21m__setattr__\u001b[39m(obj, \u001b[38;5;28mself\u001b[39m\u001b[38;5;241m.\u001b[39m_name, accessor_obj)\n",
      "File \u001b[1;32mc:\\Users\\Usuario\\AppData\\Local\\Programs\\Python\\Python39\\lib\\site-packages\\pandas\\core\\indexes\\accessors.py:643\u001b[0m, in \u001b[0;36mCombinedDatetimelikeProperties.__new__\u001b[1;34m(cls, data)\u001b[0m\n\u001b[0;32m    640\u001b[0m \u001b[38;5;28;01melif\u001b[39;00m \u001b[38;5;28misinstance\u001b[39m(data\u001b[38;5;241m.\u001b[39mdtype, PeriodDtype):\n\u001b[0;32m    641\u001b[0m     \u001b[38;5;28;01mreturn\u001b[39;00m PeriodProperties(data, orig)\n\u001b[1;32m--> 643\u001b[0m \u001b[38;5;28;01mraise\u001b[39;00m \u001b[38;5;167;01mAttributeError\u001b[39;00m(\u001b[38;5;124m\"\u001b[39m\u001b[38;5;124mCan only use .dt accessor with datetimelike values\u001b[39m\u001b[38;5;124m\"\u001b[39m)\n",
      "\u001b[1;31mAttributeError\u001b[0m: Can only use .dt accessor with datetimelike values"
     ]
    }
   ],
   "source": [
    "# Convertir las duraciones a segundos\n",
    "completed_sessions.loc[:, 'duration_seconds'] = completed_sessions['duration'].dt.total_seconds()"
   ]
  },
  {
   "cell_type": "code",
   "execution_count": null,
   "metadata": {},
   "outputs": [],
   "source": [
    "\n",
    "\n",
    "# Separar las duraciones de las sesiones por grupo\n",
    "duraciones_control = completed_sessions[completed_sessions['variation'] == 'Control']['duration']\n",
    "duraciones_test = completed_sessions[completed_sessions['variation'] == 'Test']['duration']\n",
    "\n",
    "from scipy.stats import ttest_ind\n",
    "\n",
    "# Realizar la prueba t\n",
    "t_stat, p_value = ttest_ind(duraciones_control, duraciones_test, equal_var=False) # Usar equal_var=False si no asumimos varianzas iguales\n",
    "\n",
    "# Mostrar los resultados\n",
    "print(f'Estadístico t: {t_stat:.4f}')\n",
    "print(f'Valor p: {p_value:.4f}')"
   ]
  }
 ],
 "metadata": {
  "kernelspec": {
   "display_name": "Python 3",
   "language": "python",
   "name": "python3"
  },
  "language_info": {
   "codemirror_mode": {
    "name": "ipython",
    "version": 3
   },
   "file_extension": ".py",
   "mimetype": "text/x-python",
   "name": "python",
   "nbconvert_exporter": "python",
   "pygments_lexer": "ipython3",
   "version": "3.9.1"
  }
 },
 "nbformat": 4,
 "nbformat_minor": 2
}
