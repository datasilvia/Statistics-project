{
 "cells": [
  {
   "cell_type": "code",
   "execution_count": null,
   "metadata": {},
   "outputs": [
    {
     "name": "stdout",
     "output_type": "stream",
     "text": [
      "        client_id                      visit_id  duration  start  step_1  \\\n",
      "0             169  749567106_99161211863_557568  00:03:33      1       1   \n",
      "1             336  649044751_80905125055_554468  00:15:48      2       0   \n",
      "2             546    731811517_9330176838_94847  00:02:13      1       1   \n",
      "3             555  637149525_38041617439_716659  00:02:38      1       1   \n",
      "4             647   40369564_40101682850_311847  00:06:17      1       1   \n",
      "...           ...                           ...       ...    ...     ...   \n",
      "159107    9999729   99583652_41711450505_426179  00:00:15      1       1   \n",
      "159108    9999768   85676722_11636430786_122704  00:08:06      3       3   \n",
      "159109    9999832  472154369_16714624241_585315  00:00:08      1       1   \n",
      "159110    9999839  715530422_68620416793_515645  00:04:08      2       1   \n",
      "159111    9999875    931268933_219402947_599432  00:08:38      1       2   \n",
      "\n",
      "        step_2  step_3  confirm        variation  \n",
      "0            1       1        1  Not participant  \n",
      "1            0       0        0  Not participant  \n",
      "2            1       1        1  Not participant  \n",
      "3            1       1        1             Test  \n",
      "4            1       1        1             Test  \n",
      "...        ...     ...      ...              ...  \n",
      "159107       0       0        0             Test  \n",
      "159108       3       2        1  Not participant  \n",
      "159109       0       0        0             Test  \n",
      "159110       1       1        1  Not participant  \n",
      "159111       1       1        1  Not participant  \n",
      "\n",
      "[159112 rows x 9 columns]\n"
     ]
    }
   ],
   "source": [
    "import pandas as pd\n",
    "\n",
    "df = pd.read_csv('df_webdata.csv')\n",
    "\n",
    "\n",
    "print(df)\n",
    "\n"
   ]
  },
  {
   "cell_type": "code",
   "execution_count": null,
   "metadata": {},
   "outputs": [
    {
     "name": "stdout",
     "output_type": "stream",
     "text": [
      "Datos Filtrados:\n",
      "        client_id                      visit_id  duration  start  step_1  \\\n",
      "3             555  637149525_38041617439_716659  00:02:38      1       1   \n",
      "4             647   40369564_40101682850_311847  00:06:17      1       1   \n",
      "18           1195  393817425_39015278493_996341  00:04:05      1       1   \n",
      "19           1197   71862471_21202285428_848395  00:01:35      1       1   \n",
      "21           1336  583743392_96265099036_939815  00:03:31      1       1   \n",
      "...           ...                           ...       ...    ...     ...   \n",
      "159093    9998851  310744937_17135608286_213964  00:02:45      1       1   \n",
      "159096    9998964  699981922_52880598802_858635  00:03:17      0       1   \n",
      "159098    9999009  149965839_24823291142_245569  00:02:51      1       1   \n",
      "159101    9999400  288904166_90826265353_276104  00:01:59      1       1   \n",
      "159106    9999729  870243567_56915814033_814203  00:01:15      1       1   \n",
      "\n",
      "        step_2  step_3  confirm variation  \n",
      "3            1       1        1      Test  \n",
      "4            1       1        1      Test  \n",
      "18           1       1        1   Control  \n",
      "19           2       2        1   Control  \n",
      "21           1       1        1      Test  \n",
      "...        ...     ...      ...       ...  \n",
      "159093       1       1        1      Test  \n",
      "159096       1       1        1      Test  \n",
      "159098       1       1        1      Test  \n",
      "159101       1       1        1      Test  \n",
      "159106       1       1        1      Test  \n",
      "\n",
      "[37879 rows x 9 columns]\n"
     ]
    }
   ],
   "source": [
    "\n",
    "# Filtrar los datos\n",
    "filtered_df = df[(df['confirm'] >= 1) & (df['variation'].isin(['Test', 'Control']))]\n",
    "\n",
    "\n",
    "print(\"Datos Filtrados:\")\n",
    "print(filtered_df)\n"
   ]
  },
  {
   "cell_type": "code",
   "execution_count": null,
   "metadata": {},
   "outputs": [],
   "source": [
    "# Calcular el total de cada grupo (test y control)\n",
    "total_by_group = df['variation'].value_counts()\n",
    "\n"
   ]
  },
  {
   "cell_type": "code",
   "execution_count": null,
   "metadata": {},
   "outputs": [],
   "source": [
    "# Calcular el porcentaje de confirmaciones en cada grupo\n",
    "confirm_by_group = filtered_df['variation'].value_counts()\n",
    "percentage_by_group = (confirm_by_group / total_by_group * 100).round(2)\n",
    "\n"
   ]
  },
  {
   "cell_type": "code",
   "execution_count": null,
   "metadata": {},
   "outputs": [
    {
     "name": "stdout",
     "output_type": "stream",
     "text": [
      "Total de confirmaciones por grupo:\n",
      "variation\n",
      "Test       21791\n",
      "Control    16088\n",
      "Name: count, dtype: int64\n",
      "\n",
      "Porcentaje de confirmaciones dentro de cada grupo:\n",
      "variation\n",
      "Control            49.90\n",
      "Not participant      NaN\n",
      "Test               58.57\n",
      "Name: count, dtype: float64\n"
     ]
    }
   ],
   "source": [
    "\n",
    "print(\"Total de confirmaciones por grupo:\")\n",
    "print(confirm_by_group)\n",
    "\n",
    "print(\"\\nPorcentaje de confirmaciones dentro de cada grupo:\")\n",
    "print(percentage_by_group)\n"
   ]
  }
 ],
 "metadata": {
  "kernelspec": {
   "display_name": "base",
   "language": "python",
   "name": "python3"
  },
  "language_info": {
   "codemirror_mode": {
    "name": "ipython",
    "version": 3
   },
   "file_extension": ".py",
   "mimetype": "text/x-python",
   "name": "python",
   "nbconvert_exporter": "python",
   "pygments_lexer": "ipython3",
   "version": "3.12.4"
  }
 },
 "nbformat": 4,
 "nbformat_minor": 2
}
